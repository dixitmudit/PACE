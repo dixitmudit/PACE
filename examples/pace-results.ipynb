{
  "cells": [
    {
      "cell_type": "markdown",
      "id": "1f0e53af",
      "metadata": {
        "colab_type": "text",
        "id": "view-in-github"
      },
      "source": [
        "<a href=\"https://colab.research.google.com/github/dixitmudit/PACE/blob/main/examples/pace-results.ipynb\" target=\"_parent\"><img src=\"https://colab.research.google.com/assets/colab-badge.svg\" alt=\"Open In Colab\"/></a>"
      ]
    },
    {
      "cell_type": "code",
      "execution_count": null,
      "id": "e71ff99b",
      "metadata": {
        "id": "e71ff99b",
        "vscode": {
          "languageId": "plaintext"
        }
      },
      "outputs": [],
      "source": [
        "!pip install mace-torch\n",
        "!pip install ase\n",
        "!pip install weas-widget\n",
        "!pip install pymatgen"
      ]
    },
    {
      "cell_type": "code",
      "execution_count": null,
      "id": "610497a4",
      "metadata": {
        "id": "610497a4",
        "vscode": {
          "languageId": "plaintext"
        }
      },
      "outputs": [],
      "source": [
        "import numpy as np\n",
        "import pandas as pd\n",
        "from ase import Atoms\n",
        "from ase.io import read, write\n",
        "import matplotlib.pyplot as plt\n",
        "import torch\n",
        "from mace.calculators import MACECalculator"
      ]
    },
    {
      "cell_type": "code",
      "execution_count": null,
      "id": "fba3c757",
      "metadata": {
        "id": "fba3c757",
        "vscode": {
          "languageId": "plaintext"
        }
      },
      "outputs": [],
      "source": [
        "from urllib.request import urlopen\n",
        "url = \"https://raw.githubusercontent.com/dixitmudit/PACE/refs/heads/main/examples/data/Fe-Ni.vasp.VASP\"\n",
        "base_file = urlopen(url).read().decode(\"utf-8\")\n",
        "\n",
        "url = \"https://raw.githubusercontent.com/dixitmudit/PACE/refs/heads/main/examples/data/Li2S.VASP\"\n",
        "adsorbate_file = urlopen(url).read().decode(\"utf-8\")"
      ]
    },
    {
      "cell_type": "code",
      "execution_count": null,
      "id": "e886d131",
      "metadata": {
        "id": "e886d131",
        "vscode": {
          "languageId": "plaintext"
        }
      },
      "outputs": [],
      "source": [
        "from pymatgen.core import Structure\n",
        "from pymatgen.io.ase import AseAtomsAdaptor\n",
        "\n",
        "bridge = AseAtomsAdaptor()\n",
        "\n",
        "try:\n",
        "  base=read(filename=base_file)\n",
        "  adsorbate=read(filename=adsorbate_file)\n",
        "except:\n",
        "  base = Structure.from_str(base_file, fmt=\"poscar\")\n",
        "  base = bridge.get_atoms(base) # convert Structure to Atoms\n",
        "\n",
        "  adsorbate = Structure.from_str(adsorbate_file, fmt=\"poscar\")\n",
        "  adsorbate = bridge.get_atoms(adsorbate) # convert Structure to Atoms"
      ]
    },
    {
      "cell_type": "code",
      "execution_count": null,
      "id": "c36a27f6",
      "metadata": {
        "id": "c36a27f6",
        "vscode": {
          "languageId": "plaintext"
        }
      },
      "outputs": [],
      "source": [
        "device = 'cuda' if torch.cuda.is_available() else 'cpu'\n",
        "print('Running on: ', device)\n",
        "mace_calc = MACECalculator('/path/to/model/here', device=device)"
      ]
    },
    {
      "cell_type": "code",
      "execution_count": null,
      "id": "0de8d197",
      "metadata": {
        "id": "0de8d197",
        "vscode": {
          "languageId": "plaintext"
        }
      },
      "outputs": [],
      "source": [
        "from pace import PACE\n",
        "pace = PACE(base=base, adsorbate=adsorbate, division=100, z_levels=[1.25, 1.75, 2 ], arch='mace')\n",
        "\n",
        "results = pace.screen(calculator=mace_calc, fig_save_at='figs', mlip_optimization=3,euler_angles=[0, -45, -90], make_countours=4)\n",
        "optmised_structure = results['screened_structures'][0]"
      ]
    },
    {
      "cell_type": "code",
      "execution_count": null,
      "id": "504e12f2",
      "metadata": {
        "id": "504e12f2",
        "vscode": {
          "languageId": "plaintext"
        }
      },
      "outputs": [],
      "source": [
        "from weas_widget import WeasWidget\n",
        "viewer = WeasWidget()\n",
        "viewer.from_ase(optmised_structure)\n",
        "viewer"
      ]
    }
  ],
  "metadata": {
    "colab": {
      "include_colab_link": true,
      "provenance": []
    },
    "language_info": {
      "name": "python"
    }
  },
  "nbformat": 4,
  "nbformat_minor": 5
}
